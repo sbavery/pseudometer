{
 "cells": [
  {
   "cell_type": "code",
   "execution_count": null,
   "metadata": {},
   "outputs": [],
   "source": [
    "#| hide\n",
    "from pseudometer.core import *"
   ]
  },
  {
   "cell_type": "markdown",
   "metadata": {},
   "source": [
    "# pseudometer\n",
    "\n",
    "> Pseudoscience detector using machine learning"
   ]
  },
  {
   "cell_type": "markdown",
   "metadata": {},
   "source": [
    "Pseudoscience Meter, or *pseudometer*, uses Python with nbdev, fastai, PyTorch, and scikit-learn to generate and deploy pseudoscience detecting machine learning models."
   ]
  },
  {
   "cell_type": "markdown",
   "metadata": {},
   "source": [
    "## Install"
   ]
  },
  {
   "cell_type": "markdown",
   "metadata": {},
   "source": [
    "First, you'll need the Pyenchant dictionary libraries used to ensure collected words are valid.\n",
    "\n",
    "In linux, run:\n",
    "```sh\n",
    "sudo apt-get install libenchant-dev\n",
    "```\n",
    "\n",
    "For other OS, see: https://pyenchant.github.io/pyenchant/install.html\n",
    "\n",
    "Then, in the pseudometer repository run:\n",
    "```sh\n",
    "pip install -e .\n",
    "```"
   ]
  },
  {
   "cell_type": "markdown",
   "metadata": {},
   "source": [
    "## How to use"
   ]
  },
  {
   "cell_type": "markdown",
   "metadata": {},
   "source": [
    "TODO - Please check out nbs/01_data.ipynb for a full prototype!"
   ]
  },
  {
   "cell_type": "code",
   "execution_count": null,
   "metadata": {},
   "outputs": [],
   "source": []
  }
 ],
 "metadata": {
  "kernelspec": {
   "display_name": "Python 3.10.6 64-bit",
   "language": "python",
   "name": "python3"
  }
 },
 "nbformat": 4,
 "nbformat_minor": 4
}
