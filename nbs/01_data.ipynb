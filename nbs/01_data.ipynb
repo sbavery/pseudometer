{
 "cells": [
  {
   "cell_type": "markdown",
   "metadata": {},
   "source": [
    "# data\n",
    "\n",
    "> Web scraping and tools for data collection and processing"
   ]
  },
  {
   "cell_type": "code",
   "execution_count": 1,
   "metadata": {
    "vscode": {
     "languageId": "python"
    }
   },
   "outputs": [],
   "source": [
    "#| default_exp data"
   ]
  },
  {
   "cell_type": "markdown",
   "metadata": {},
   "source": [
    "[![Open In Colab](https://colab.research.google.com/assets/colab-badge.svg)](https://colab.research.google.com/github/sbavery/pseudometer/blob/main/nbs/01_data.ipynb)"
   ]
  },
  {
   "cell_type": "code",
   "execution_count": 2,
   "metadata": {
    "vscode": {
     "languageId": "python"
    }
   },
   "outputs": [],
   "source": [
    "#| hide\n",
    "## Google Colab / Enchant Library Install for Dictionaries\n",
    "#!apt update\n",
    "#!apt install enchant-2 --fix-missing\n",
    "#!apt install -qq enchant-2"
   ]
  },
  {
   "cell_type": "code",
   "execution_count": 3,
   "metadata": {
    "vscode": {
     "languageId": "python"
    }
   },
   "outputs": [],
   "source": [
    "#| export\n",
    "import warnings\n",
    "warnings.filterwarnings('ignore')\n",
    "import requests\n",
    "from bs4 import BeautifulSoup\n",
    "import enchant\n",
    "import re\n",
    "import random\n",
    "from collections import Counter\n",
    "from fastai.text.all import *\n",
    "import hashlib\n",
    "import pickle"
   ]
  },
  {
   "cell_type": "code",
   "execution_count": 4,
   "metadata": {
    "vscode": {
     "languageId": "python"
    }
   },
   "outputs": [],
   "source": [
    "#| hide\n",
    "## Utility Function to Check GPU Status\n",
    "def check_gpu():\n",
    "    print(\"CUDA Available: \", torch.cuda.is_available())\n",
    "    num_devices = torch.cuda.device_count()\n",
    "    if num_devices > 0:\n",
    "        for device in range(0,num_devices):\n",
    "            print(\"Device\", device, \"|\", torch.cuda.get_device_name(device), \n",
    "            \"| Allocated:\", round(torch.cuda.memory_allocated(device)/1024**3,1), \"GB\",\n",
    "            \"| Cached:\", round(torch.cuda.memory_reserved(device)/1024**3,1), \"GB\")\n",
    "\n",
    "torch.cuda.empty_cache()"
   ]
  },
  {
   "cell_type": "code",
   "execution_count": 5,
   "metadata": {
    "vscode": {
     "languageId": "python"
    }
   },
   "outputs": [
    {
     "name": "stdout",
     "output_type": "stream",
     "text": [
      "CUDA Available:  True\n",
      "Device 0 | NVIDIA GeForce RTX 3050 Ti Laptop GPU | Allocated: 0.0 GB | Cached: 0.0 GB\n"
     ]
    }
   ],
   "source": [
    "#| hide\n",
    "check_gpu()"
   ]
  },
  {
   "cell_type": "markdown",
   "metadata": {},
   "source": [
    "## Web Scraper"
   ]
  },
  {
   "cell_type": "code",
   "execution_count": 6,
   "metadata": {
    "vscode": {
     "languageId": "python"
    }
   },
   "outputs": [],
   "source": [
    "#| export\n",
    "class Webpage:\n",
    "    def __init__(self, url):\n",
    "        self.url = url\n",
    "        self.hash = self.get_hash_str()\n",
    "        self.requested = False\n",
    "        self.page_text = \"\"\n",
    "        self.html = \"\"\n",
    "        self.links = []\n",
    "        self.text = []\n",
    "        self.cleaned_text = []\n",
    "        self.most_common_words = []\n",
    "    \n",
    "    def get_page(self, headers, min_size, max_size):\n",
    "        r = requests.get(self.url, stream=True, headers=headers)\n",
    "        content_length = int(r.headers.get('Content-Length', 0))\n",
    "        data = []\n",
    "        length = 0\n",
    "\n",
    "        if content_length > max_size:\n",
    "            return None\n",
    "\n",
    "        for chunk in r.iter_content(1024):\n",
    "            data.append(chunk)\n",
    "            length += len(chunk)\n",
    "            if length > max_size:\n",
    "                return None\n",
    "        r._content = b''.join(data)\n",
    "        if len(r.text) < min_size: return None\n",
    "        return r.text\n",
    "\n",
    "    def get_page_html(self, min_size=1000, max_size=2000000):\n",
    "        user_agents = [ \n",
    "            'Mozilla/5.0 (Windows NT 10.0; Win64; x64) AppleWebKit/537.36 (KHTML, like Gecko) Chrome/91.0.4472.124 Safari/537.36', \n",
    "            'Mozilla/5.0 (X11; Linux x86_64) AppleWebKit/537.36 (KHTML, like Gecko) Chrome/92.0.4515.107 Safari/537.36', \n",
    "            'Mozilla/5.0 (Windows NT 10.0; Win64; x64) AppleWebKit/537.36 (KHTML, like Gecko) Chrome/90.0.4430.212 Safari/537.36', \n",
    "            'Mozilla/5.0 (iPhone; CPU iPhone OS 12_2 like Mac OS X) AppleWebKit/605.1.15 (KHTML, like Gecko) Mobile/15E148', \n",
    "            'Mozilla/5.0 (Linux; Android 11; SM-G960U) AppleWebKit/537.36 (KHTML, like Gecko) Chrome/89.0.4389.72 Mobile Safari/537.36' \n",
    "        ] \n",
    "        user_agent = random.choice(user_agents) \n",
    "        headers = {'User-Agent': user_agent} \n",
    "        self.page_text = self.get_page(headers, min_size, max_size)\n",
    "        self.html = BeautifulSoup(self.page_text, \"html.parser\")\n",
    "        self.requested = True\n",
    "\n",
    "    def get_hash_str(self, inp=\"\"):\n",
    "        return hashlib.sha3_256((self.url+inp).encode()).hexdigest()\n",
    "\n",
    "    def get_html_anchors(self, keyword=\"http\"):\n",
    "        for anchor in self.html.findAll('a'):\n",
    "            link = anchor.get('href')\n",
    "            if link == None or link == \"\":\n",
    "                continue\n",
    "            if keyword in link:\n",
    "                self.links.append(link)\n",
    "                \n",
    "    def get_html_text(self, tags=[\"p\"]):\n",
    "        for tag in tags:\n",
    "            for p in self.html.findAll(tag):\n",
    "                p_text = p.getText().strip()\n",
    "                if p_text == None or p_text == '':\n",
    "                    continue\n",
    "                self.text.append(p_text)\n",
    "\n",
    "    def clean_html_text(self, max_words, enchant_dict=\"en_US\", ignore=[], rx=\"[^a-zA-Z ]+\", min_word_len=2):\n",
    "        all_text = ' '.join(self.text).lower()\n",
    "        regex_text = re.sub(rx,'',all_text).strip()\n",
    "        split = regex_text.split()\n",
    "        split = [word for word in split if word not in ignore]\n",
    "        if enchant_dict != \"\": d = enchant.Dict(enchant_dict)\n",
    "        for word in split:\n",
    "            if len(self.cleaned_text) >= max_words: break\n",
    "            if len(word) >= min_word_len:\n",
    "                if enchant_dict == \"\":\n",
    "                    self.cleaned_text.append(word)\n",
    "                elif d.check(word): \n",
    "                    self.cleaned_text.append(word)\n",
    "\n",
    "    def k_common_words(self, k=10, ignore=[]):\n",
    "        if self.cleaned_text == \"\":\n",
    "            text = self.text\n",
    "        else:\n",
    "            text = self.cleaned_text\n",
    "        all_text = ' '.join(text).lower()\n",
    "        split = all_text.split()\n",
    "        split_ignore = [word for word in split if word not in ignore]\n",
    "        counts = Counter(split_ignore)\n",
    "        k_most_common = counts.most_common(k)\n",
    "        self.most_common_words = k_most_common\n",
    "\n",
    "    def save_text(self, path, fname):\n",
    "        file = open(path+fname, 'wb')\n",
    "        pickle.dump(self.text, file)\n",
    "        file.close()\n",
    "\n",
    "    def load_text(self, path, fname):\n",
    "        file = open(path+fname, 'rb')\n",
    "        self.text = pickle.load(file)\n",
    "        file.close()\n",
    "\n",
    "    def save_links(self, path, fname):\n",
    "        file = open(path+fname, 'wb')\n",
    "        pickle.dump(self.links, file)\n",
    "        file.close()\n",
    "\n",
    "    def load_links(self, path, fname):\n",
    "        file = open(path+fname, 'rb')\n",
    "        self.links = pickle.load(file)\n",
    "        file.close()"
   ]
  },
  {
   "cell_type": "code",
   "execution_count": 7,
   "metadata": {
    "vscode": {
     "languageId": "python"
    }
   },
   "outputs": [
    {
     "name": "stdout",
     "output_type": "stream",
     "text": [
      "1000 most common English words\n"
     ]
    }
   ],
   "source": [
    "#| hide\n",
    "url = \"https://gist.githubusercontent.com/deekayen/4148741/raw/98d35708fa344717d8eee15d11987de6c8e26d7d/1-1000.txt\"\n",
    "common_english = Webpage(url)\n",
    "common_english.get_page_html(min_size=1000)\n",
    "english_words = common_english.html.getText().lower()\n",
    "english_words = english_words.split('\\n')\n",
    "print(len(english_words),\"most common English words\")\n",
    "#english_words"
   ]
  },
  {
   "cell_type": "code",
   "execution_count": 8,
   "metadata": {
    "vscode": {
     "languageId": "python"
    }
   },
   "outputs": [],
   "source": [
    "#| hide\n",
    "url = \"http://www.ageofautism.com/\"\n",
    "path = os.getcwd()+'/data/'\n",
    "if os.path.isdir(path) is False: os.mkdir(path)"
   ]
  },
  {
   "cell_type": "code",
   "execution_count": 9,
   "metadata": {
    "vscode": {
     "languageId": "python"
    }
   },
   "outputs": [],
   "source": [
    "#| hide\n",
    "test_page = Webpage(url)\n",
    "test_page.get_page_html()\n",
    "test_page.get_html_text()\n",
    "test_page.get_html_anchors()\n",
    "test_page.clean_html_text(500, ignore=english_words[:50], rx=\"[^a-zA-Z ]+\")\n",
    "test_page.save_text(path, test_page.hash+'.text')\n",
    "test_page.save_links(path, test_page.hash+'.links')"
   ]
  },
  {
   "cell_type": "code",
   "execution_count": 10,
   "metadata": {
    "vscode": {
     "languageId": "python"
    }
   },
   "outputs": [
    {
     "name": "stdout",
     "output_type": "stream",
     "text": [
      "Loading Text\n",
      "Loading Links\n",
      "500\n"
     ]
    },
    {
     "data": {
      "text/plain": [
       "'holy high fructose corn syrup health defenses defender has article exposes yet more twisted truth about academy pediatrics company once liked teach world sing perfect harmony funds pediatric healthcare confused health many years ago pediatrics appalled row vending machines loaded junk food soda glass soda back most ounces made sugar refreshing treat big food such food industry so intertwined healthcare its impossible separate them aside if watched wheres my recommend academy pediatrics great par'"
      ]
     },
     "execution_count": 10,
     "metadata": {},
     "output_type": "execute_result"
    }
   ],
   "source": [
    "new_page = Webpage(url)\n",
    "fname_text = new_page.hash+'.text'\n",
    "fname_links = new_page.hash+'.links'\n",
    "if os.path.isfile(path+fname_text): \n",
    "    new_page.load_text(path, fname_text)\n",
    "    print(\"Loading Text\")\n",
    "else:\n",
    "    new_page.get_page_html()\n",
    "    new_page.get_html_text(tags=[\"p\",\"h1\",\"h2\",\"h3\",\"span\"])\n",
    "    new_page.save_text(path, fname_text)\n",
    "\n",
    "if os.path.isfile(path+fname_links): \n",
    "    new_page.load_links(path, fname_links)\n",
    "    print(\"Loading Links\")\n",
    "else:\n",
    "    new_page.get_page_html()\n",
    "    new_page.get_html_anchors()\n",
    "    new_page.save_links(path, fname_links)\n",
    "new_page.clean_html_text(500, ignore=english_words[:50], rx=\"[^a-zA-Z ]+\")\n",
    "new_page.k_common_words(k=5,ignore=english_words[:50])\n",
    "print(len(new_page.cleaned_text))\n",
    "' '.join(new_page.cleaned_text)[:500]"
   ]
  },
  {
   "cell_type": "code",
   "execution_count": 11,
   "metadata": {
    "vscode": {
     "languageId": "python"
    }
   },
   "outputs": [],
   "source": [
    "#| export\n",
    "def get_page_all(url, k, max_words, ignore_text, ignore_common, path = None):\n",
    "    page = Webpage(url)\n",
    "    fname_text = page.hash+'.text'\n",
    "    fname_links = page.hash+'.links'\n",
    "    if path == None:\n",
    "        page.get_page_html()\n",
    "        page.get_html_text(tags=[\"p\",\"h1\",\"h2\",\"h3\",\"span\"])\n",
    "        page.get_html_anchors()\n",
    "    else:\n",
    "        if os.path.isfile(path+fname_text): \n",
    "            page.load_text(path, fname_text)\n",
    "        else:\n",
    "            page.get_page_html()\n",
    "            page.get_html_text(tags=[\"p\",\"h1\",\"h2\",\"h3\",\"span\"])\n",
    "            page.save_text(path, fname_text)\n",
    "\n",
    "        if os.path.isfile(path+fname_links): \n",
    "            page.load_links(path, fname_links)\n",
    "        else:\n",
    "            if page.html == \"\": page.get_page_html()\n",
    "            page.get_html_anchors()\n",
    "            page.save_links(path, fname_links)\n",
    "\n",
    "    if page.text is not None:\n",
    "        page.clean_html_text(max_words, ignore=ignore_text, rx=\"[^a-zA-Z ]+\")\n",
    "        page.k_common_words(k=k, ignore=ignore_common)\n",
    "    return page\n",
    "\n",
    "def get_all_links(url, dict, category, k, min_words=20, max_words=500, ignore_text=[], ignore_common=[], ignore_filenames=[\".mp3\",\".jpg\",\".png\"], max_links=\"\", path=None):\n",
    "    primary_page = get_page_all(url, k, max_words, ignore_text, ignore_common, path)\n",
    "    if primary_page.cleaned_text is not []:\n",
    "        dict[url] = [primary_page.cleaned_text, primary_page.most_common_words, category]\n",
    "        if max_links == \"\" or max_links > len(primary_page.links): max_links=len(primary_page.links)\n",
    "        \n",
    "        for count, link in enumerate(primary_page.links[:max_links]):\n",
    "            if all(x not in link for x in ignore_filenames):\n",
    "                try:\n",
    "                    page = get_page_all(link, k, max_words, ignore_text, ignore_common, path)\n",
    "                    if page.cleaned_text is not []:\n",
    "                        if len(page.cleaned_text) == 0: continue\n",
    "                        if len(page.cleaned_text) < min_words: continue #category='unknown'\n",
    "                        if len(page.cleaned_text) > max_words: page.cleaned_text = page.cleaned_text[:max_words]\n",
    "                        if [page.cleaned_text, page.most_common_words] in dict.values(): continue\n",
    "                        dict[link] = [page.cleaned_text, page.most_common_words, category]\n",
    "                except:\n",
    "                    pass\n",
    "            if link in dict:\n",
    "                res = str(len(dict[link][0]))+\" words | \"+str(dict[link][1][:3])\n",
    "            else:\n",
    "                res = \"Rejected\"\n",
    "            progress_message = \"%s link %4d/%4d | %s = %s %s\" % (url, count, len(primary_page.links), link, res, 500*' ')\n",
    "            sys.stdout.write(\"\\r\" + progress_message)\n",
    "            sys.stdout.flush()\n",
    "    else:\n",
    "        print(url,\"returned None, Skipping...\")"
   ]
  },
  {
   "cell_type": "code",
   "execution_count": 12,
   "metadata": {
    "vscode": {
     "languageId": "python"
    }
   },
   "outputs": [],
   "source": [
    "\"\"\"\n",
    "    \"unknown\":[\"https://www.huffpost.com/\",\n",
    "\"https://www.wired.com/\",\n",
    "\"https://www.theguardian.com/us\",\n",
    "\"https://www.goodgopher.com\"],\n",
    "\"\"\"\n",
    "\n",
    "categories = {\n",
    "    \"pseudoscience\":[\"http://www.ageofautism.com/\",\n",
    " \"http://www.naturalnews.com\", \n",
    " \"https://foodbabe.com/starthere/\",\n",
    " \"http://www.chopra.com\",\n",
    " \"https://www.mercola.com/\",\n",
    " \"https://www.history.com/\",\n",
    " \"https://doctoroz.com/\",\n",
    " \"https://www.disclose.tv/\",\n",
    " \"https://nationalreport.net/\",\n",
    " \"https://heartland.org/\",\n",
    " \"https://www.dailymail.co.uk/\",\n",
    " \"https://www.motherjones.com/\"],\n",
    "    \"science\":[\"https://sciencebasedmedicine.org/\",\n",
    " \"https://www.hopkinsmedicine.org/gim/research/method/ebm.html\",\n",
    " \"https://www.bbc.com/news/science_and_environment\",\n",
    " \"https://www.nature.com/\",\n",
    " \"https://www.science.org/\",\n",
    " \"https://www.snopes.com/top/\",\n",
    " \"https://quackwatch.org/\",\n",
    " \"https://www.skepdic.com/\",\n",
    " \"http://scibabe.com/\",\n",
    " \"http://pandasthumb.org/\",\n",
    " \"https://skepticalscience.com/\",\n",
    " \"https://www.cdc.gov/\",\n",
    " \"https://apnews.com/\",\n",
    " \"https://www.economist.com/\",\n",
    " \"https://www.livescience.com/\",\n",
    " \"https://www.newscientist.com/\"]\n",
    " }"
   ]
  },
  {
   "cell_type": "code",
   "execution_count": 13,
   "metadata": {
    "vscode": {
     "languageId": "python"
    }
   },
   "outputs": [],
   "source": [
    "k = 30 # words\n",
    "min_words = 100\n",
    "max_words = 450\n",
    "max_links = 50\n",
    "ignore_text = ['the', 'of', 'to', 'and', 'a', 'in', 'it', 'that', 'for', 'on'] \n",
    "ignore_common = english_words[:50]\n",
    "ignore_filenames = [\".mp3\",\".jpg\",\".png\",\".mp4\",\".jfif\",\"facebook.com\",\"twitter.com\"]"
   ]
  },
  {
   "cell_type": "code",
   "execution_count": 14,
   "metadata": {
    "vscode": {
     "languageId": "python"
    }
   },
   "outputs": [
    {
     "name": "stdout",
     "output_type": "stream",
     "text": [
      "https://www.newscientist.com/ link   30/  33 | https://www.twitter.com/newscientist = Rejected                                                                                                                                                                                                                                                                                                                                                                                                                                                                                                                                                                                                                                                                                                                                                                                                                                                                                                                                                                 "
     ]
    }
   ],
   "source": [
    "#| hide\n",
    "d_dl = {}\n",
    "d_train = {}\n",
    "path = os.getcwd()+'/data/'\n",
    "if os.path.isdir(path) is False: os.mkdir(path)\n",
    "\n",
    "for category in categories:\n",
    "    for source in categories[category]:\n",
    "        if category == \"unknown\":\n",
    "            max_l = 0\n",
    "        else:\n",
    "            max_l = max_links\n",
    "        get_all_links(source, d_dl, category, k, min_words, max_words, ignore_text, ignore_common, \n",
    "        ignore_filenames, max_l, path)\n"
   ]
  },
  {
   "cell_type": "code",
   "execution_count": 15,
   "metadata": {
    "vscode": {
     "languageId": "python"
    }
   },
   "outputs": [],
   "source": [
    "for link in d_dl:\n",
    "    text = d_dl[link][0]\n",
    "    common_words = ' '.join([count[0] for count in d_dl[link][1]])\n",
    "    if link not in d_train:\n",
    "        d_train[link] = [' '.join(text), common_words, d_dl[link][2]]\n",
    "#d_train"
   ]
  },
  {
   "cell_type": "code",
   "execution_count": 16,
   "metadata": {
    "vscode": {
     "languageId": "python"
    }
   },
   "outputs": [
    {
     "name": "stdout",
     "output_type": "stream",
     "text": [
      "#### pseudoscience 30 Most Common Words ####\n",
      " [('our', 671), ('health', 507), ('more', 292), ('food', 287), ('has', 247), ('mother', 241), ('us', 233), ('about', 228), ('policy', 220), ('its', 217), ('my', 216), ('their', 214), ('will', 211), ('heartland', 192), ('access', 169), ('news', 168), ('twitter', 168), ('trump', 164), ('information', 162), ('email', 158), ('donate', 151), ('subscribe', 147), ('privacy', 143), ('oz', 143), ('care', 135), ('purpose', 135), ('new', 133), ('if', 129), ('her', 128), ('technical', 128)] \n",
      "\n",
      "\n",
      "#### science 30 Most Common Words ####\n",
      " [('our', 893), ('medicine', 764), ('more', 755), ('science', 669), ('about', 599), ('new', 565), ('health', 489), ('menu', 405), ('us', 375), ('care', 348), ('research', 347), ('its', 343), ('will', 339), ('published', 332), ('johns', 286), ('news', 284), ('economist', 278), ('these', 255), ('has', 250), ('cookies', 250), ('information', 249), ('access', 240), ('world', 239), ('internal', 236), ('climate', 235), ('general', 229), ('may', 213), ('division', 205), ('if', 200), ('used', 195)] \n",
      "\n",
      "\n"
     ]
    }
   ],
   "source": [
    "#| hide\n",
    "d_counts = {}\n",
    "for link in d_dl:\n",
    "    if d_dl[link][2] in d_counts:\n",
    "        d_counts[d_dl[link][2]]+=Counter(dict(d_dl[link][1]))\n",
    "    else:\n",
    "        d_counts[d_dl[link][2]]=Counter(dict(d_dl[link][1]))\n",
    "\n",
    "for category in d_counts:\n",
    "    print(\"####\",category,k,\"Most Common Words ####\\n\",d_counts[category].most_common(k),\"\\n\\n\")"
   ]
  },
  {
   "cell_type": "markdown",
   "metadata": {},
   "source": [
    "## Data Preparation"
   ]
  },
  {
   "cell_type": "code",
   "execution_count": 17,
   "metadata": {
    "vscode": {
     "languageId": "python"
    }
   },
   "outputs": [
    {
     "data": {
      "text/html": [
       "<div>\n",
       "<style scoped>\n",
       "    .dataframe tbody tr th:only-of-type {\n",
       "        vertical-align: middle;\n",
       "    }\n",
       "\n",
       "    .dataframe tbody tr th {\n",
       "        vertical-align: top;\n",
       "    }\n",
       "\n",
       "    .dataframe thead th {\n",
       "        text-align: right;\n",
       "    }\n",
       "</style>\n",
       "<table border=\"1\" class=\"dataframe\">\n",
       "  <thead>\n",
       "    <tr style=\"text-align: right;\">\n",
       "      <th></th>\n",
       "      <th>text</th>\n",
       "      <th>common_words</th>\n",
       "      <th>label</th>\n",
       "    </tr>\n",
       "  </thead>\n",
       "  <tbody>\n",
       "    <tr>\n",
       "      <th>http://www.ageofautism.com/</th>\n",
       "      <td>holy high fructose corn syrup health defenses defender has an article exposes yet more twisted truth about academy pediatrics company once liked teach he world sing perfect harmony funds pediatric healthcare not be confused with health many years ago was at pediatrics appalled by row vending machines loaded with junk food soda glass soda back when was at most ounces made with sugar was refreshing treat big food such as is food industry is so intertwined with healthcare its impossible separate them as an aside if you watched wheres my recommend academy pediatrics great partner ours new pape...</td>\n",
       "      <td>health public academy paper pediatrics conferences truth about nutrition events speakers researchers found food industry great new influence academic institutions uncovered biggest senior vice president alliance documents know conference has</td>\n",
       "      <td>pseudoscience</td>\n",
       "    </tr>\n",
       "    <tr>\n",
       "      <th>https://www.ageofautism.com/</th>\n",
       "      <td>by had few extra minutes myself morning been hoping some extra time my week get few things done sorting through some paperwork catching up laundry writing out some major things but they are adding up having extra time get at least one thing completed was exactly what hoped got morning but first breakfast while eating decided scroll through felt awful after not because what ate but because what read longtime advocate had posted link caught my eye usually read strangers obituaries as sad as was glad decided click if you feel moved by what he shared please forward his link with all learned wi...</td>\n",
       "      <td>our who my deaths age autism lies those extra been read posted better health so during people percent few morning time get things through least decided because link feel family</td>\n",
       "      <td>pseudoscience</td>\n",
       "    </tr>\n",
       "    <tr>\n",
       "      <th>https://www.ageofautism.com/exclusives.html</th>\n",
       "      <td>editorials from series by here come you had me at an elaborate fraud series deer special report what do epidemiological studies really tell us note from there are epidemiological studies here vaccines autism these studies represent most often cited papers by scientists public health officials members media when trying refute any evidence an association between vaccinations autism there are serious methodological limitations design flaws conflicts interest or other problems related each these studies these flaws have been pointed out by government officials other researchers medical review ...</td>\n",
       "      <td>autism studies health these series here public epidemiological vaccines officials limitations flaws study defense donate editorials come me elaborate fraud deer special report do really tell us note represent most</td>\n",
       "      <td>pseudoscience</td>\n",
       "    </tr>\n",
       "    <tr>\n",
       "      <th>https://www.ageofautism.com/science/</th>\n",
       "      <td>tom urged get their bivalent vaccine booster yesterday twitter kindly let him his followers know about week class starting this week through countermeasures injury compensation program this is program absolves corporations whose products harm during pandemic you can take course both live recorded version national vaccine injury compensation program countermeasures injury compensation program used emergency authorized this course students will learn structure function defects programs us created by congress award compensation adults children potentially actually harmed or killed by vaccines...</td>\n",
       "      <td>compensation injury program vaccine course high disease consequence no countermeasures us four their know week will john march health before been infectious has get class through products both live national</td>\n",
       "      <td>pseudoscience</td>\n",
       "    </tr>\n",
       "    <tr>\n",
       "      <th>https://www.ageofautism.com/a-welcome-from-dan-olmste.html</th>\n",
       "      <td>welcome age autism daily web newspaper autism epidemic donate please either use donate button right sidebar secure accepts all credit cards or send check autism age box ct donations are tax deductible our nonprofit is thank are published give voice those who believe autism is an environmentally induced illness is treatable children can recover most part major media united states interested point view they wont investigate causes possible biomedical treatments autism independently they listen most important people parents many whom have witnessed autistic regression medical illness after va...</td>\n",
       "      <td>autism comments donate health age our those epidemic who believe illness most people medical us defense public welcome daily web newspaper please either button right sidebar secure accepts credit cards</td>\n",
       "      <td>pseudoscience</td>\n",
       "    </tr>\n",
       "  </tbody>\n",
       "</table>\n",
       "</div>"
      ],
      "text/plain": [
       "                                                                                                                                                                                                                                                                                                                                                                                                                                                                                                                                                                                                                                                                               text  \\\n",
       "http://www.ageofautism.com/                                 holy high fructose corn syrup health defenses defender has an article exposes yet more twisted truth about academy pediatrics company once liked teach he world sing perfect harmony funds pediatric healthcare not be confused with health many years ago was at pediatrics appalled by row vending machines loaded with junk food soda glass soda back when was at most ounces made with sugar was refreshing treat big food such as is food industry is so intertwined with healthcare its impossible separate them as an aside if you watched wheres my recommend academy pediatrics great partner ours new pape...   \n",
       "https://www.ageofautism.com/                                by had few extra minutes myself morning been hoping some extra time my week get few things done sorting through some paperwork catching up laundry writing out some major things but they are adding up having extra time get at least one thing completed was exactly what hoped got morning but first breakfast while eating decided scroll through felt awful after not because what ate but because what read longtime advocate had posted link caught my eye usually read strangers obituaries as sad as was glad decided click if you feel moved by what he shared please forward his link with all learned wi...   \n",
       "https://www.ageofautism.com/exclusives.html                 editorials from series by here come you had me at an elaborate fraud series deer special report what do epidemiological studies really tell us note from there are epidemiological studies here vaccines autism these studies represent most often cited papers by scientists public health officials members media when trying refute any evidence an association between vaccinations autism there are serious methodological limitations design flaws conflicts interest or other problems related each these studies these flaws have been pointed out by government officials other researchers medical review ...   \n",
       "https://www.ageofautism.com/science/                        tom urged get their bivalent vaccine booster yesterday twitter kindly let him his followers know about week class starting this week through countermeasures injury compensation program this is program absolves corporations whose products harm during pandemic you can take course both live recorded version national vaccine injury compensation program countermeasures injury compensation program used emergency authorized this course students will learn structure function defects programs us created by congress award compensation adults children potentially actually harmed or killed by vaccines...   \n",
       "https://www.ageofautism.com/a-welcome-from-dan-olmste.html  welcome age autism daily web newspaper autism epidemic donate please either use donate button right sidebar secure accepts all credit cards or send check autism age box ct donations are tax deductible our nonprofit is thank are published give voice those who believe autism is an environmentally induced illness is treatable children can recover most part major media united states interested point view they wont investigate causes possible biomedical treatments autism independently they listen most important people parents many whom have witnessed autistic regression medical illness after va...   \n",
       "\n",
       "                                                                                                                                                                                                                                                                                                 common_words  \\\n",
       "http://www.ageofautism.com/                                 health public academy paper pediatrics conferences truth about nutrition events speakers researchers found food industry great new influence academic institutions uncovered biggest senior vice president alliance documents know conference has   \n",
       "https://www.ageofautism.com/                                                                                                 our who my deaths age autism lies those extra been read posted better health so during people percent few morning time get things through least decided because link feel family   \n",
       "https://www.ageofautism.com/exclusives.html                                             autism studies health these series here public epidemiological vaccines officials limitations flaws study defense donate editorials come me elaborate fraud deer special report do really tell us note represent most   \n",
       "https://www.ageofautism.com/science/                                                           compensation injury program vaccine course high disease consequence no countermeasures us four their know week will john march health before been infectious has get class through products both live national   \n",
       "https://www.ageofautism.com/a-welcome-from-dan-olmste.html                                          autism comments donate health age our those epidemic who believe illness most people medical us defense public welcome daily web newspaper please either button right sidebar secure accepts credit cards   \n",
       "\n",
       "                                                                    label  \n",
       "http://www.ageofautism.com/                                 pseudoscience  \n",
       "https://www.ageofautism.com/                                pseudoscience  \n",
       "https://www.ageofautism.com/exclusives.html                 pseudoscience  \n",
       "https://www.ageofautism.com/science/                        pseudoscience  \n",
       "https://www.ageofautism.com/a-welcome-from-dan-olmste.html  pseudoscience  "
      ]
     },
     "execution_count": 17,
     "metadata": {},
     "output_type": "execute_result"
    }
   ],
   "source": [
    "#| hide\n",
    "df = pd.DataFrame.from_dict(d_train, orient='index', columns=['text', 'common_words', 'label'])\n",
    "df.head()"
   ]
  },
  {
   "cell_type": "code",
   "execution_count": 18,
   "metadata": {
    "vscode": {
     "languageId": "python"
    }
   },
   "outputs": [
    {
     "data": {
      "text/html": [
       "\n",
       "<style>\n",
       "    /* Turns off some styling */\n",
       "    progress {\n",
       "        /* gets rid of default border in Firefox and Opera. */\n",
       "        border: none;\n",
       "        /* Needs to be in here for Safari polyfill so background images work as expected. */\n",
       "        background-size: auto;\n",
       "    }\n",
       "    progress:not([value]), progress:not([value])::-webkit-progress-bar {\n",
       "        background: repeating-linear-gradient(45deg, #7e7e7e, #7e7e7e 10px, #5c5c5c 10px, #5c5c5c 20px);\n",
       "    }\n",
       "    .progress-bar-interrupted, .progress-bar-interrupted::-webkit-progress-bar {\n",
       "        background: #F44336;\n",
       "    }\n",
       "</style>\n"
      ],
      "text/plain": [
       "<IPython.core.display.HTML object>"
      ]
     },
     "metadata": {},
     "output_type": "display_data"
    },
    {
     "data": {
      "text/html": [],
      "text/plain": [
       "<IPython.core.display.HTML object>"
      ]
     },
     "metadata": {},
     "output_type": "display_data"
    },
    {
     "data": {
      "text/html": [
       "<table border=\"1\" class=\"dataframe\">\n",
       "  <thead>\n",
       "    <tr style=\"text-align: right;\">\n",
       "      <th></th>\n",
       "      <th>text</th>\n",
       "      <th>category</th>\n",
       "    </tr>\n",
       "  </thead>\n",
       "  <tbody>\n",
       "    <tr>\n",
       "      <th>0</th>\n",
       "      <td>xxbos children today are from previous generations proof is news coverage we see every day this site shows you what s happening schools around are increasingly disabled chronically ill education system has accommodate them long associated with autism like sensory issues repetitive behaviors lack social skills are now problems affecting mainstream students blame is predictably placed bad parenting otherwise known as trauma from home addressing mental health needs is as important as academics modern educators this is an xxunk disaster here are about children who ca nt learn or xxunk like children have always been expected what childhood has become is chilling xxunk future mankind home schools week plans check xxunk capacity secondary schools local authorities could then use updated numbers spectrum news ma new xxunk students with autism opens news calls changes special educational needs funding system news xxunk hub model autism funding leaves some kids behind premier announcement</td>\n",
       "      <td>pseudoscience</td>\n",
       "    </tr>\n",
       "    <tr>\n",
       "      <th>1</th>\n",
       "      <td>xxbos by food babe whenever enter conventional grocery store get heart xxunk you might think am kidding about this but am not my body gets heated my face starts xxunk end up saying about times before leave store think by now would have my emotions under control but think why am so passionate about xxunk this food system know you are too because you keep emailing commenting xxunk me all xxunk up things you are seeing out there ca nt thank you enough this investigation is one you have been asking so here is if you are new food babe you definitely want read this before you ever go deli counter again received emails comments social media expressing been led believe boars head deli meat than other brands wanted know if really is better or if just got really good marketing xxunk elsewhere sure makes sound like they add cheap</td>\n",
       "      <td>pseudoscience</td>\n",
       "    </tr>\n",
       "    <tr>\n",
       "      <th>2</th>\n",
       "      <td>xxbos where employees are corporations key assets workers greater power comes threatening walk out door when musk bought twitter he clearly know key assets he was buying lay twitters workers heads corporate balance sheets assets corporation are its xxunk equipment patents brand name workers considered assets they appear as costs fact xxunk are typically corporations total costs which is why companies often cut xxunk increase profits reason this is corporations have xxunk been viewed as production systems assets are things corporations own which turn xxunk labor xxunk materials components into xxunk products reduce costs these xxunk xxunk each product xxunk more profit or been traditional view yet today increasingly corporations just production systems systems directing people who work within them large growing part value corporation now lies heads its workers heads know how xxunk know what needs improvement know where strengths vulnerabilities are found know why corporation xxunk or these</td>\n",
       "      <td>science</td>\n",
       "    </tr>\n",
       "  </tbody>\n",
       "</table>"
      ],
      "text/plain": [
       "<IPython.core.display.HTML object>"
      ]
     },
     "metadata": {},
     "output_type": "display_data"
    }
   ],
   "source": [
    "dls = TextDataLoaders.from_df(df, bs=16, text_col='text', label_col='label')\n",
    "dls.show_batch(max_n=3)"
   ]
  },
  {
   "cell_type": "code",
   "execution_count": 19,
   "metadata": {
    "vscode": {
     "languageId": "python"
    }
   },
   "outputs": [],
   "source": [
    "#| hide\n",
    "torch.cuda.empty_cache()"
   ]
  },
  {
   "cell_type": "code",
   "execution_count": 20,
   "metadata": {
    "vscode": {
     "languageId": "python"
    }
   },
   "outputs": [
    {
     "data": {
      "text/html": [
       "\n",
       "<style>\n",
       "    /* Turns off some styling */\n",
       "    progress {\n",
       "        /* gets rid of default border in Firefox and Opera. */\n",
       "        border: none;\n",
       "        /* Needs to be in here for Safari polyfill so background images work as expected. */\n",
       "        background-size: auto;\n",
       "    }\n",
       "    progress:not([value]), progress:not([value])::-webkit-progress-bar {\n",
       "        background: repeating-linear-gradient(45deg, #7e7e7e, #7e7e7e 10px, #5c5c5c 10px, #5c5c5c 20px);\n",
       "    }\n",
       "    .progress-bar-interrupted, .progress-bar-interrupted::-webkit-progress-bar {\n",
       "        background: #F44336;\n",
       "    }\n",
       "</style>\n"
      ],
      "text/plain": [
       "<IPython.core.display.HTML object>"
      ]
     },
     "metadata": {},
     "output_type": "display_data"
    },
    {
     "data": {
      "text/html": [
       "<table border=\"1\" class=\"dataframe\">\n",
       "  <thead>\n",
       "    <tr style=\"text-align: left;\">\n",
       "      <th>epoch</th>\n",
       "      <th>train_loss</th>\n",
       "      <th>valid_loss</th>\n",
       "      <th>accuracy</th>\n",
       "      <th>time</th>\n",
       "    </tr>\n",
       "  </thead>\n",
       "  <tbody>\n",
       "    <tr>\n",
       "      <td>0</td>\n",
       "      <td>0.575557</td>\n",
       "      <td>0.343493</td>\n",
       "      <td>0.935252</td>\n",
       "      <td>00:13</td>\n",
       "    </tr>\n",
       "  </tbody>\n",
       "</table>"
      ],
      "text/plain": [
       "<IPython.core.display.HTML object>"
      ]
     },
     "metadata": {},
     "output_type": "display_data"
    },
    {
     "data": {
      "text/html": [
       "\n",
       "<style>\n",
       "    /* Turns off some styling */\n",
       "    progress {\n",
       "        /* gets rid of default border in Firefox and Opera. */\n",
       "        border: none;\n",
       "        /* Needs to be in here for Safari polyfill so background images work as expected. */\n",
       "        background-size: auto;\n",
       "    }\n",
       "    progress:not([value]), progress:not([value])::-webkit-progress-bar {\n",
       "        background: repeating-linear-gradient(45deg, #7e7e7e, #7e7e7e 10px, #5c5c5c 10px, #5c5c5c 20px);\n",
       "    }\n",
       "    .progress-bar-interrupted, .progress-bar-interrupted::-webkit-progress-bar {\n",
       "        background: #F44336;\n",
       "    }\n",
       "</style>\n"
      ],
      "text/plain": [
       "<IPython.core.display.HTML object>"
      ]
     },
     "metadata": {},
     "output_type": "display_data"
    },
    {
     "data": {
      "text/html": [
       "<table border=\"1\" class=\"dataframe\">\n",
       "  <thead>\n",
       "    <tr style=\"text-align: left;\">\n",
       "      <th>epoch</th>\n",
       "      <th>train_loss</th>\n",
       "      <th>valid_loss</th>\n",
       "      <th>accuracy</th>\n",
       "      <th>time</th>\n",
       "    </tr>\n",
       "  </thead>\n",
       "  <tbody>\n",
       "    <tr>\n",
       "      <td>0</td>\n",
       "      <td>0.335934</td>\n",
       "      <td>0.281781</td>\n",
       "      <td>0.913669</td>\n",
       "      <td>00:23</td>\n",
       "    </tr>\n",
       "    <tr>\n",
       "      <td>1</td>\n",
       "      <td>0.317811</td>\n",
       "      <td>0.181477</td>\n",
       "      <td>0.935252</td>\n",
       "      <td>00:23</td>\n",
       "    </tr>\n",
       "    <tr>\n",
       "      <td>2</td>\n",
       "      <td>0.211700</td>\n",
       "      <td>0.136886</td>\n",
       "      <td>0.956835</td>\n",
       "      <td>00:24</td>\n",
       "    </tr>\n",
       "    <tr>\n",
       "      <td>3</td>\n",
       "      <td>0.164531</td>\n",
       "      <td>0.130294</td>\n",
       "      <td>0.956835</td>\n",
       "      <td>00:24</td>\n",
       "    </tr>\n",
       "  </tbody>\n",
       "</table>"
      ],
      "text/plain": [
       "<IPython.core.display.HTML object>"
      ]
     },
     "metadata": {},
     "output_type": "display_data"
    }
   ],
   "source": [
    "learn = text_classifier_learner(dls, AWD_LSTM, drop_mult=0.5, metrics=accuracy)\n",
    "learn.fine_tune(4, 1e-2)"
   ]
  },
  {
   "cell_type": "code",
   "execution_count": 21,
   "metadata": {
    "vscode": {
     "languageId": "python"
    }
   },
   "outputs": [
    {
     "name": "stdout",
     "output_type": "stream",
     "text": [
      "CUDA Available:  True\n",
      "Device 0 | NVIDIA GeForce RTX 3050 Ti Laptop GPU | Allocated: 0.4 GB | Cached: 2.2 GB\n"
     ]
    }
   ],
   "source": [
    "#| hide\n",
    "check_gpu()"
   ]
  },
  {
   "cell_type": "code",
   "execution_count": 22,
   "metadata": {
    "vscode": {
     "languageId": "python"
    }
   },
   "outputs": [
    {
     "data": {
      "text/html": [
       "\n",
       "<style>\n",
       "    /* Turns off some styling */\n",
       "    progress {\n",
       "        /* gets rid of default border in Firefox and Opera. */\n",
       "        border: none;\n",
       "        /* Needs to be in here for Safari polyfill so background images work as expected. */\n",
       "        background-size: auto;\n",
       "    }\n",
       "    progress:not([value]), progress:not([value])::-webkit-progress-bar {\n",
       "        background: repeating-linear-gradient(45deg, #7e7e7e, #7e7e7e 10px, #5c5c5c 10px, #5c5c5c 20px);\n",
       "    }\n",
       "    .progress-bar-interrupted, .progress-bar-interrupted::-webkit-progress-bar {\n",
       "        background: #F44336;\n",
       "    }\n",
       "</style>\n"
      ],
      "text/plain": [
       "<IPython.core.display.HTML object>"
      ]
     },
     "metadata": {},
     "output_type": "display_data"
    },
    {
     "data": {
      "text/html": [],
      "text/plain": [
       "<IPython.core.display.HTML object>"
      ]
     },
     "metadata": {},
     "output_type": "display_data"
    },
    {
     "data": {
      "text/html": [
       "<table border=\"1\" class=\"dataframe\">\n",
       "  <thead>\n",
       "    <tr style=\"text-align: right;\">\n",
       "      <th></th>\n",
       "      <th>text</th>\n",
       "      <th>category</th>\n",
       "      <th>category_</th>\n",
       "    </tr>\n",
       "  </thead>\n",
       "  <tbody>\n",
       "    <tr>\n",
       "      <th>0</th>\n",
       "      <td>xxbos this blog ran from march has been replaced by no armed xxunk xxunk no raising smart kids ct no xxunk xxunk no xxunk design no autism no xxunk cold reading no jun experiences xxunk enemies reason xxunk xxunk parks mystery park closed no may peter evolution bacterial xxunk chiropractors run xxunk cam aids soldiers forced work as male xxunk st no report tam xxunk skeptical journalists no science religion politics no mar xxunk begins filming what will become its hit show paranormal state ted hypocrisy psychic xxunk without clue critical thinking ct xxunk politics science young earth creationists poll reveals xxunk mercury health healing prayer studies find people who pray are talking themselves mice no march mostly republican war science no march abortion zoo takes intelligent design association advancement science xxunk educational practices no xxunk over cartoons no bizarre case tale torture murder xxunk xxunk satanic xxunk xxunk films</td>\n",
       "      <td>science</td>\n",
       "      <td>science</td>\n",
       "    </tr>\n",
       "    <tr>\n",
       "      <th>1</th>\n",
       "      <td>xxbos organic vegan xxunk organic plant based protein powder with ingredients your body will thank you add scoop xxunk overnight xxunk or baking need recipe go just add water sweet smooth way prevent pm crash free shipping within us this was reaction when she tried chocolate protein how are we able get rid xxunk texture xxunk flavor you get from other protein powders simple we use unique blend plant proteins one main ingredients is organic pea protein but instead turning whole pea xxunk all into pea protein we xxunk first this makes our powder smooth delicious avoids additives good reason with only ingredients be wondering how does taste so good answer we use real food keep pure no fillers no xxunk no artificial colors no artificial sweeteners we also avoid instead we use organic xxunk fruit add just right amount xxunk view nutrition facts view nutrition facts going double check</td>\n",
       "      <td>pseudoscience</td>\n",
       "      <td>pseudoscience</td>\n",
       "    </tr>\n",
       "    <tr>\n",
       "      <th>2</th>\n",
       "      <td>xxbos heartland institute submitted public comments proposal repeal clean power plan environmental protect agency issued an advanced notice proposed titled repeal carbon dioxide xxunk guidelines existing xxunk sources electric utility generating units clean power plan heartland institute senior fellow peter research fellow submitted comprehensive extensively documented more than figures more than xxunk public comment support repeal they note comment addresses following topics about heartland institute clean power plan is based an xxunk interpretation section clean air xxunk there is no legal authority must be costs have already vastly exceeded even expected benefits ii fossil fuels are essential prosperity worldwide hundreds years since industrial revolution fossil fuel use is has been associated with higher economic growth xxunk wages health life xxunk population reduced even after decades government xxunk xxunk alternative energy sources such as solar wind play only niche role us energy official us government projections show fossil fuels will be</td>\n",
       "      <td>pseudoscience</td>\n",
       "      <td>pseudoscience</td>\n",
       "    </tr>\n",
       "    <tr>\n",
       "      <th>3</th>\n",
       "      <td>xxbos dissect your favorite foods learn truth about food health industry just take look at dollar companies changed free guide healthy xxunk anytime anywhere free grocery shopping guide navigate xxunk like pro know what eat your health with fast easy meal plans welcome my blog here you will find wealth information from food reports recipes so you too can lead food babe lifestyle orange pops recipe healthy swap orange were one my favorite treats as child since learned how bad ingredients are them really missed them thankfully figured out how recreate this xxunk staple with real food ingredients which are actually healthy you spicy chicken sandwich ingredients exposed see what s those fries biscuits too when came out with their spicy chicken sandwich couple years ago was unlike anything i d ever seen lines were around block demand was so insane they sold out these xxunk weeks my first thought</td>\n",
       "      <td>pseudoscience</td>\n",
       "      <td>pseudoscience</td>\n",
       "    </tr>\n",
       "    <tr>\n",
       "      <th>4</th>\n",
       "      <td>xxbos candidate machine learning digital twin aerospace industry valid from language interdisciplinary security reliability number fixed term full hours hours per start doctoral university seeks hire outstanding researchers at its interdisciplinary security reliability trust team under prof is carrying out interdisciplinary research secure reliable information communication technologies systems services often collaboration with industrial xxunk or is active several international research projects funded by national international research further information you may check looking people driven by excellence excited about innovation looking make difference if this sounds like you come aerospace industry is committed improving vehicles life cycle management due long vehicle life cycle more than years manufacturing service digital twin is by xxunk company have potential life cycle management tools by providing an xxunk process integrates all different stages air vehicles from operation maintenance om until their end life although aerospace industry is data is currently not digital twin platforms thus</td>\n",
       "      <td>science</td>\n",
       "      <td>science</td>\n",
       "    </tr>\n",
       "    <tr>\n",
       "      <th>5</th>\n",
       "      <td>xxbos when you purchase through links our site we may earn an affiliate commission how works minerals were found inside slice meteorite which was found two minerals have never been seen before earth have been discovered inside massive meteorite they could hold important clues how xxunk form two brand new minerals were found inside single xxunk xxunk slice taken from ton metric tons meteorite which was found scientists named minerals after xxunk after opens new tab managing director state university xxunk initiative principal investigator upcoming xxunk mission which will send probe investigate xxunk asteroid evidence how our solar systems planets formed whenever you find new mineral means actual geological conditions chemistry rock was different than what s been found before herd opens new tab professor department earth atmospheric sciences at university said statement opens new tab what makes this exciting this particular meteorite you have two officially described minerals are</td>\n",
       "      <td>science</td>\n",
       "      <td>science</td>\n",
       "    </tr>\n",
       "    <tr>\n",
       "      <th>6</th>\n",
       "      <td>xxbos north schedule latest international news from tests out if you can visit keep health condition latest international news from how son militia leader escaped his nick cave talks latest international news from speaks xxunk writer latest international news from xxunk three young women who left their homes latest international news from women follows two women who have been xxunk us latest international news from demonstrations china football latest international news from tests out if you can visit keep health condition latest international news from click explores cutting edge gene therapy helping patients with serious latest international news from all latest sports news results from around globe travels latest international news from tells extraordinary story newly formed freedom latest international news from as winter begins bite has got an energy strategy life after latest international news from after thousands xxunk wash up dead coast local xxunk look xxunk latest international</td>\n",
       "      <td>science</td>\n",
       "      <td>science</td>\n",
       "    </tr>\n",
       "    <tr>\n",
       "      <th>7</th>\n",
       "      <td>xxbos sign up read our regular email newsletters children are xxunk than we thought so why do so many them believe father xxunk question reveals lot about child psychology even more about adults by rituals we build around may be more our benefit than our photos rituals we build around may be more our benefit than our martin photos was when he started question existence every like many kids he had left out an apple carrot reindeer cold beer man himself every year he found snacks an empty glass alongside xxunk presents next day but had started having doubts with his growing he even xxunk plan check his parents receipts was beginning end or end beginning my belief he says two decades later now xxunk at university is investigating father again this time he is xxunk ways children tell fact from fiction he wants know why some kids are more</td>\n",
       "      <td>science</td>\n",
       "      <td>science</td>\n",
       "    </tr>\n",
       "    <tr>\n",
       "      <th>8</th>\n",
       "      <td>xxbos our global coverage offers distinctive insight incisive analysis start your day free trial week over subscribers trust economist help them make sense world news join them by downloading economist app includes daily selection best our journalism along with full weekly version economist newspaper read or listen subscriber economist simply install app sign with your economist login economist is an trusted filter global affairs offering analysis everything from business finance politics science technology economics covers every region world including united states xxunk at big topics from climate change sustainability future work economist is also available as weekly stories latest news analysis combined with highlights from weekly issue economist world brief short morning briefing days global economist weekly edition full access weekly version economist audio version weekly edition listen selection our podcasts including intelligence daily xxunk xxunk from economists worldwide network morning briefing day analysis worlds biggest news stories updated by</td>\n",
       "      <td>science</td>\n",
       "      <td>science</td>\n",
       "    </tr>\n",
       "  </tbody>\n",
       "</table>"
      ],
      "text/plain": [
       "<IPython.core.display.HTML object>"
      ]
     },
     "metadata": {},
     "output_type": "display_data"
    }
   ],
   "source": [
    "learn.show_results()"
   ]
  },
  {
   "cell_type": "markdown",
   "metadata": {},
   "source": [
    "## Making Model Predictions"
   ]
  },
  {
   "cell_type": "code",
   "execution_count": 23,
   "metadata": {
    "vscode": {
     "languageId": "python"
    }
   },
   "outputs": [],
   "source": [
    "test_categories = {\n",
    "    #'unknown':[],\n",
    "    'pseudoscience':['https://www.foxnews.com/opinion',\n",
    "'https://newspunch.com/',\n",
    "'https://www.huffpost.com/'],\n",
    "    'science':['https://www.si.edu/explore/science',\n",
    "'https://www.theskepticsguide.org/about',\n",
    "'https://arstechnica.com/']\n",
    "}"
   ]
  },
  {
   "cell_type": "code",
   "execution_count": 30,
   "metadata": {
    "vscode": {
     "languageId": "python"
    }
   },
   "outputs": [
    {
     "name": "stdout",
     "output_type": "stream",
     "text": [
      "https://www.foxnews.com/opinion\n",
      "[('tucker', 6), ('twitter', 5), ('hunter', 5), ('laptop', 5), ('story', 5)]\n",
      "('science', tensor(1), tensor([0.4723, 0.5277]))\n",
      "https://newspunch.com/\n",
      "[('news', 6), ('during', 4), ('surgery', 4), ('election', 4), ('new', 3)]\n",
      "('science', tensor(1), tensor([0.2754, 0.7246]))\n",
      "https://www.huffpost.com/\n",
      "[('trump', 6), ('her', 6), ('us', 4), ('life', 4), ('new', 4)]\n",
      "('pseudoscience', tensor(0), tensor([0.9845, 0.0155]))\n",
      "https://www.si.edu/explore/science\n",
      "[('science', 10), ('about', 8), ('our', 7), ('microscope', 6), ('panama', 6)]\n",
      "('science', tensor(1), tensor([0.0116, 0.9884]))\n",
      "https://www.theskepticsguide.org/about\n",
      "[('science', 16), ('also', 10), ('skeptics', 9), ('guide', 8), ('skeptical', 8)]\n",
      "('science', tensor(1), tensor([0.0304, 0.9696]))\n",
      "https://arstechnica.com/\n",
      "[('pm', 34), ('new', 8), ('its', 4), ('mole', 4), ('may', 3)]\n",
      "('science', tensor(1), tensor([0.3732, 0.6268]))\n",
      "Average Accuracy = 0.7195055882136027\n",
      "Train Source Accuracy = nan\n",
      "Test Source Accuracy = 0.7195055882136027\n"
     ]
    },
    {
     "data": {
      "text/html": [
       "<div>\n",
       "<style scoped>\n",
       "    .dataframe tbody tr th:only-of-type {\n",
       "        vertical-align: middle;\n",
       "    }\n",
       "\n",
       "    .dataframe tbody tr th {\n",
       "        vertical-align: top;\n",
       "    }\n",
       "\n",
       "    .dataframe thead th {\n",
       "        text-align: right;\n",
       "    }\n",
       "</style>\n",
       "<table border=\"1\" class=\"dataframe\">\n",
       "  <thead>\n",
       "    <tr style=\"text-align: right;\">\n",
       "      <th></th>\n",
       "      <th>actual</th>\n",
       "      <th>prediction</th>\n",
       "      <th>probability</th>\n",
       "      <th>training source</th>\n",
       "      <th>accuracy</th>\n",
       "    </tr>\n",
       "  </thead>\n",
       "  <tbody>\n",
       "    <tr>\n",
       "      <th>https://www.foxnews.com/opinion</th>\n",
       "      <td>pseudoscience</td>\n",
       "      <td>science</td>\n",
       "      <td>0.527666</td>\n",
       "      <td>False</td>\n",
       "      <td>0.472334</td>\n",
       "    </tr>\n",
       "    <tr>\n",
       "      <th>https://newspunch.com/</th>\n",
       "      <td>pseudoscience</td>\n",
       "      <td>science</td>\n",
       "      <td>0.724625</td>\n",
       "      <td>False</td>\n",
       "      <td>0.275375</td>\n",
       "    </tr>\n",
       "    <tr>\n",
       "      <th>https://www.huffpost.com/</th>\n",
       "      <td>pseudoscience</td>\n",
       "      <td>pseudoscience</td>\n",
       "      <td>0.984490</td>\n",
       "      <td>False</td>\n",
       "      <td>0.984490</td>\n",
       "    </tr>\n",
       "    <tr>\n",
       "      <th>https://www.si.edu/explore/science</th>\n",
       "      <td>science</td>\n",
       "      <td>science</td>\n",
       "      <td>0.988414</td>\n",
       "      <td>False</td>\n",
       "      <td>0.988414</td>\n",
       "    </tr>\n",
       "    <tr>\n",
       "      <th>https://www.theskepticsguide.org/about</th>\n",
       "      <td>science</td>\n",
       "      <td>science</td>\n",
       "      <td>0.969587</td>\n",
       "      <td>False</td>\n",
       "      <td>0.969587</td>\n",
       "    </tr>\n",
       "    <tr>\n",
       "      <th>https://arstechnica.com/</th>\n",
       "      <td>science</td>\n",
       "      <td>science</td>\n",
       "      <td>0.626833</td>\n",
       "      <td>False</td>\n",
       "      <td>0.626833</td>\n",
       "    </tr>\n",
       "  </tbody>\n",
       "</table>\n",
       "</div>"
      ],
      "text/plain": [
       "                                               actual     prediction  \\\n",
       "https://www.foxnews.com/opinion         pseudoscience        science   \n",
       "https://newspunch.com/                  pseudoscience        science   \n",
       "https://www.huffpost.com/               pseudoscience  pseudoscience   \n",
       "https://www.si.edu/explore/science            science        science   \n",
       "https://www.theskepticsguide.org/about        science        science   \n",
       "https://arstechnica.com/                      science        science   \n",
       "\n",
       "                                        probability  training source  accuracy  \n",
       "https://www.foxnews.com/opinion            0.527666            False  0.472334  \n",
       "https://newspunch.com/                     0.724625            False  0.275375  \n",
       "https://www.huffpost.com/                  0.984490            False  0.984490  \n",
       "https://www.si.edu/explore/science         0.988414            False  0.988414  \n",
       "https://www.theskepticsguide.org/about     0.969587            False  0.969587  \n",
       "https://arstechnica.com/                   0.626833            False  0.626833  "
      ]
     },
     "execution_count": 30,
     "metadata": {},
     "output_type": "execute_result"
    }
   ],
   "source": [
    "d_pred = {}\n",
    "\n",
    "for category in test_categories:\n",
    "    for source in test_categories[category]:\n",
    "        train_source = False\n",
    "        page = get_page_all(source, k, max_words, ignore_text, ignore_common)\n",
    "        length = len(page.cleaned_text)\n",
    "        if  length < min_words:\n",
    "            print(\"ERROR:\",source,length,\"words\")\n",
    "        else:\n",
    "            common_words = ' '.join([count[0] for count in page.most_common_words])\n",
    "            text = ' '.join(page.cleaned_text)\n",
    "            with learn.no_bar(), learn.no_logging():\n",
    "                prediction = learn.predict(text)\n",
    "            p = prediction[2][:].max().item()\n",
    "\n",
    "            if source in d_train.keys(): train_source = True\n",
    "            if category == prediction[0]:\n",
    "                accuracy = p\n",
    "            else:\n",
    "                accuracy = 1-p\n",
    "            d_pred[source] = [category, prediction[0], p, train_source, accuracy]\n",
    "\n",
    "df = pd.DataFrame.from_dict(d_pred, orient='index', columns=['actual', 'prediction', 'probability', 'training source', 'accuracy'])\n",
    "\n",
    "avg_accuracy = df['accuracy'].mean()\n",
    "train_accuracy = df.loc[df['training source'] == True, 'accuracy'].mean()\n",
    "test_accuracy = df.loc[df['training source'] == False, 'accuracy'].mean()\n",
    "\n",
    "print(\"Average Accuracy =\",avg_accuracy)\n",
    "print(\"Train Source Accuracy =\",train_accuracy)\n",
    "print(\"Test Source Accuracy =\",test_accuracy)\n",
    "df.loc[df['training source'] == False]"
   ]
  },
  {
   "cell_type": "markdown",
   "metadata": {},
   "source": [
    "## Exporting and Loading the Model"
   ]
  },
  {
   "cell_type": "code",
   "execution_count": 25,
   "metadata": {
    "vscode": {
     "languageId": "python"
    }
   },
   "outputs": [],
   "source": [
    "#learn.export('models/2022.12.01 Model v1 88pct')"
   ]
  },
  {
   "cell_type": "code",
   "execution_count": 26,
   "metadata": {
    "vscode": {
     "languageId": "python"
    }
   },
   "outputs": [],
   "source": [
    "#learn = load_learner('models/2022.11.28 Model.pth', cpu=False)"
   ]
  },
  {
   "cell_type": "code",
   "execution_count": null,
   "metadata": {
    "vscode": {
     "languageId": "python"
    }
   },
   "outputs": [],
   "source": []
  }
 ],
 "metadata": {
  "kernelspec": {
   "display_name": "Python 3.10.6 64-bit",
   "language": "python",
   "name": "python3"
  }
 },
 "nbformat": 4,
 "nbformat_minor": 4
}
