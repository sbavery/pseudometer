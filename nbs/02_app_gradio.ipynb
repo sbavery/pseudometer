{
 "cells": [
  {
   "cell_type": "markdown",
   "metadata": {},
   "source": [
    "# user interface\n",
    "\n",
    "> UI Prototypes and deployment"
   ]
  },
  {
   "cell_type": "code",
   "execution_count": null,
   "metadata": {},
   "outputs": [],
   "source": [
    "#| default_exp app_gradio"
   ]
  },
  {
   "cell_type": "markdown",
   "metadata": {},
   "source": [
    "[![Open In Colab](https://colab.research.google.com/assets/colab-badge.svg)](https://colab.research.google.com/github/sbavery/pseudometer/blob/main/nbs/02_user_interface.ipynb)"
   ]
  },
  {
   "cell_type": "code",
   "execution_count": null,
   "metadata": {},
   "outputs": [],
   "source": [
    "#| hide\n",
    "## Google Colab / Installs\n",
    "#!pip install gradio"
   ]
  },
  {
   "cell_type": "code",
   "execution_count": null,
   "metadata": {},
   "outputs": [],
   "source": [
    "#| export\n",
    "#| hide\n",
    "import warnings\n",
    "warnings.filterwarnings('ignore')\n",
    "from fastai.text.all import *\n",
    "from pseudometer.data import *\n",
    "import gradio as gr"
   ]
  },
  {
   "cell_type": "markdown",
   "metadata": {},
   "source": [
    "## Gradio Prototype"
   ]
  },
  {
   "cell_type": "code",
   "execution_count": null,
   "metadata": {},
   "outputs": [],
   "source": [
    "#| hide\n",
    "#| export\n",
    "categories = ('pseudoscience','science')\n",
    "k = 30\n",
    "min_words = 20\n",
    "max_words = 450\n",
    "ignore_text = ['the', 'of', 'to', 'and', 'a', 'in', 'it', 'that', 'for', 'on'] \n",
    "ignore_common = ignore_text\n",
    "learn = load_learner('models/2022.12.01 Model v1 88pct', cpu=False)\n",
    "\n",
    "def predict(url):\n",
    "    page = get_page_all(url, k, max_words, ignore_text, ignore_common)\n",
    "    length = len(page.cleaned_text)\n",
    "    if  length < min_words:\n",
    "        return \"ERROR: Returned \"+str(length)+\" words\"\n",
    "    else:\n",
    "        text = ' '.join(page.cleaned_text)\n",
    "        with learn.no_bar(), learn.no_logging():\n",
    "            pred,idx,probs = learn.predict(text)\n",
    "        return dict(zip(categories, map(float,probs)))"
   ]
  },
  {
   "cell_type": "code",
   "execution_count": null,
   "metadata": {},
   "outputs": [
    {
     "data": {
      "text/plain": [
       "{'pseudoscience': 0.0023253117688000202, 'science': 0.9976746439933777}"
      ]
     },
     "execution_count": null,
     "metadata": {},
     "output_type": "execute_result"
    }
   ],
   "source": [
    "predict('https://www.si.edu/explore/science')"
   ]
  },
  {
   "cell_type": "code",
   "execution_count": null,
   "metadata": {},
   "outputs": [],
   "source": [
    "#| export\n",
    "text = gr.inputs.Textbox(1)\n",
    "label = gr.outputs.Label()\n",
    "examples = ['https://www.theskepticsguide.org/about','https://www.foxnews.com/opinion']\n",
    "\n",
    "intf = gr.Interface(fn=predict, inputs=text, outputs=label, examples=examples)"
   ]
  },
  {
   "cell_type": "code",
   "execution_count": null,
   "metadata": {},
   "outputs": [
    {
     "name": "stdout",
     "output_type": "stream",
     "text": [
      "Running on local URL:  http://127.0.0.1:7860\n",
      "\n",
      "To create a public link, set `share=True` in `launch()`.\n"
     ]
    },
    {
     "data": {
      "text/plain": []
     },
     "execution_count": null,
     "metadata": {},
     "output_type": "execute_result"
    }
   ],
   "source": [
    "intf.launch(inline=False)"
   ]
  },
  {
   "cell_type": "code",
   "execution_count": null,
   "metadata": {},
   "outputs": [],
   "source": []
  }
 ],
 "metadata": {
  "kernelspec": {
   "display_name": "Python 3.10.6 64-bit",
   "language": "python",
   "name": "python3"
  }
 },
 "nbformat": 4,
 "nbformat_minor": 4
}
